{
  "nbformat": 4,
  "nbformat_minor": 0,
  "metadata": {
    "colab": {
      "name": "Retail.ipynb",
      "provenance": [],
      "collapsed_sections": [],
      "authorship_tag": "ABX9TyNM9ajeTsWvCLuyeRfJG+/I",
      "include_colab_link": true
    },
    "kernelspec": {
      "name": "python3",
      "display_name": "Python 3"
    },
    "language_info": {
      "name": "python"
    }
  },
  "cells": [
    {
      "cell_type": "markdown",
      "metadata": {
        "id": "view-in-github",
        "colab_type": "text"
      },
      "source": [
        "<a href=\"https://colab.research.google.com/github/Shreevatsa3942/Edureka-modules/blob/main/Retail.ipynb\" target=\"_parent\"><img src=\"https://colab.research.google.com/assets/colab-badge.svg\" alt=\"Open In Colab\"/></a>"
      ]
    },
    {
      "cell_type": "code",
      "metadata": {
        "id": "zbV1P39251Yb"
      },
      "source": [
        "import numpy as np\n",
        "import pandas as pd\n",
        "import matplotlib.pyplot as plt\n"
      ],
      "execution_count": 9,
      "outputs": []
    },
    {
      "cell_type": "code",
      "metadata": {
        "id": "pM7m_b1TCCgZ"
      },
      "source": [
        "dataset = pd.read_csv('BigMartSalesData.csv')"
      ],
      "execution_count": 10,
      "outputs": []
    },
    {
      "cell_type": "code",
      "metadata": {
        "colab": {
          "base_uri": "https://localhost:8080/"
        },
        "id": "d6uqh9BiDUkD",
        "outputId": "e52a887d-4288-41dc-c3f2-7a1aa9ab4813"
      },
      "source": [
        "# Check the basic data & Verify 541874 records are there\n",
        "\n",
        "print (dataset.head())\n",
        "print (dataset.info())"
      ],
      "execution_count": 11,
      "outputs": [
        {
          "output_type": "stream",
          "text": [
            "  InvoiceNo StockCode  ... CustomerID         Country\n",
            "0    536365    85123A  ...    17850.0  United Kingdom\n",
            "1    536365     71053  ...    17850.0  United Kingdom\n",
            "2    536365    84406B  ...    17850.0  United Kingdom\n",
            "3    536365    84029G  ...    17850.0  United Kingdom\n",
            "4    536365    84029E  ...    17850.0  United Kingdom\n",
            "\n",
            "[5 rows x 12 columns]\n",
            "<class 'pandas.core.frame.DataFrame'>\n",
            "RangeIndex: 160312 entries, 0 to 160311\n",
            "Data columns (total 12 columns):\n",
            " #   Column       Non-Null Count   Dtype  \n",
            "---  ------       --------------   -----  \n",
            " 0   InvoiceNo    160312 non-null  object \n",
            " 1   StockCode    160311 non-null  object \n",
            " 2   Description  159683 non-null  object \n",
            " 3   Quantity     160311 non-null  float64\n",
            " 4   UnitPrice    160311 non-null  float64\n",
            " 5   Amount       160311 non-null  float64\n",
            " 6   InvoiceDate  160311 non-null  object \n",
            " 7   Day          160311 non-null  float64\n",
            " 8   Month        160311 non-null  float64\n",
            " 9   Year         160311 non-null  float64\n",
            " 10  CustomerID   112387 non-null  float64\n",
            " 11  Country      160311 non-null  object \n",
            "dtypes: float64(7), object(5)\n",
            "memory usage: 14.7+ MB\n",
            "None\n"
          ],
          "name": "stdout"
        }
      ]
    },
    {
      "cell_type": "code",
      "metadata": {
        "colab": {
          "base_uri": "https://localhost:8080/",
          "height": 847
        },
        "id": "RYctvjQgDXWE",
        "outputId": "b0c6a7a8-2851-40f2-e0d7-8443a96d8f7f"
      },
      "source": [
        "#copy of dataset\n",
        "data = dataset.copy()\n",
        "#Get sales for the year 2011\n",
        "data = data.drop(data[data.Year!=2011].index)\n",
        "data"
      ],
      "execution_count": 14,
      "outputs": [
        {
          "output_type": "execute_result",
          "data": {
            "text/html": [
              "<div>\n",
              "<style scoped>\n",
              "    .dataframe tbody tr th:only-of-type {\n",
              "        vertical-align: middle;\n",
              "    }\n",
              "\n",
              "    .dataframe tbody tr th {\n",
              "        vertical-align: top;\n",
              "    }\n",
              "\n",
              "    .dataframe thead th {\n",
              "        text-align: right;\n",
              "    }\n",
              "</style>\n",
              "<table border=\"1\" class=\"dataframe\">\n",
              "  <thead>\n",
              "    <tr style=\"text-align: right;\">\n",
              "      <th></th>\n",
              "      <th>InvoiceNo</th>\n",
              "      <th>StockCode</th>\n",
              "      <th>Description</th>\n",
              "      <th>Quantity</th>\n",
              "      <th>UnitPrice</th>\n",
              "      <th>Amount</th>\n",
              "      <th>InvoiceDate</th>\n",
              "      <th>Day</th>\n",
              "      <th>Month</th>\n",
              "      <th>Year</th>\n",
              "      <th>CustomerID</th>\n",
              "      <th>Country</th>\n",
              "    </tr>\n",
              "  </thead>\n",
              "  <tbody>\n",
              "    <tr>\n",
              "      <th>42479</th>\n",
              "      <td>539993</td>\n",
              "      <td>22386</td>\n",
              "      <td>JUMBO BAG PINK POLKADOT</td>\n",
              "      <td>10.0</td>\n",
              "      <td>1.95</td>\n",
              "      <td>19.50</td>\n",
              "      <td>04-01-11</td>\n",
              "      <td>4.0</td>\n",
              "      <td>1.0</td>\n",
              "      <td>2011.0</td>\n",
              "      <td>13313.0</td>\n",
              "      <td>United Kingdom</td>\n",
              "    </tr>\n",
              "    <tr>\n",
              "      <th>42480</th>\n",
              "      <td>539993</td>\n",
              "      <td>21499</td>\n",
              "      <td>BLUE POLKADOT WRAP</td>\n",
              "      <td>25.0</td>\n",
              "      <td>0.42</td>\n",
              "      <td>10.50</td>\n",
              "      <td>04-01-11</td>\n",
              "      <td>4.0</td>\n",
              "      <td>1.0</td>\n",
              "      <td>2011.0</td>\n",
              "      <td>13313.0</td>\n",
              "      <td>United Kingdom</td>\n",
              "    </tr>\n",
              "    <tr>\n",
              "      <th>42481</th>\n",
              "      <td>539993</td>\n",
              "      <td>21498</td>\n",
              "      <td>RED RETROSPOT WRAP</td>\n",
              "      <td>25.0</td>\n",
              "      <td>0.42</td>\n",
              "      <td>10.50</td>\n",
              "      <td>04-01-11</td>\n",
              "      <td>4.0</td>\n",
              "      <td>1.0</td>\n",
              "      <td>2011.0</td>\n",
              "      <td>13313.0</td>\n",
              "      <td>United Kingdom</td>\n",
              "    </tr>\n",
              "    <tr>\n",
              "      <th>42482</th>\n",
              "      <td>539993</td>\n",
              "      <td>22379</td>\n",
              "      <td>RECYCLING BAG RETROSPOT</td>\n",
              "      <td>5.0</td>\n",
              "      <td>2.10</td>\n",
              "      <td>10.50</td>\n",
              "      <td>04-01-11</td>\n",
              "      <td>4.0</td>\n",
              "      <td>1.0</td>\n",
              "      <td>2011.0</td>\n",
              "      <td>13313.0</td>\n",
              "      <td>United Kingdom</td>\n",
              "    </tr>\n",
              "    <tr>\n",
              "      <th>42483</th>\n",
              "      <td>539993</td>\n",
              "      <td>20718</td>\n",
              "      <td>RED RETROSPOT SHOPPER BAG</td>\n",
              "      <td>10.0</td>\n",
              "      <td>1.25</td>\n",
              "      <td>12.50</td>\n",
              "      <td>04-01-11</td>\n",
              "      <td>4.0</td>\n",
              "      <td>1.0</td>\n",
              "      <td>2011.0</td>\n",
              "      <td>13313.0</td>\n",
              "      <td>United Kingdom</td>\n",
              "    </tr>\n",
              "    <tr>\n",
              "      <th>...</th>\n",
              "      <td>...</td>\n",
              "      <td>...</td>\n",
              "      <td>...</td>\n",
              "      <td>...</td>\n",
              "      <td>...</td>\n",
              "      <td>...</td>\n",
              "      <td>...</td>\n",
              "      <td>...</td>\n",
              "      <td>...</td>\n",
              "      <td>...</td>\n",
              "      <td>...</td>\n",
              "      <td>...</td>\n",
              "    </tr>\n",
              "    <tr>\n",
              "      <th>160306</th>\n",
              "      <td>550458</td>\n",
              "      <td>22692</td>\n",
              "      <td>DOORMAT WELCOME TO OUR HOME</td>\n",
              "      <td>1.0</td>\n",
              "      <td>15.79</td>\n",
              "      <td>15.79</td>\n",
              "      <td>18-04-11</td>\n",
              "      <td>18.0</td>\n",
              "      <td>4.0</td>\n",
              "      <td>2011.0</td>\n",
              "      <td>NaN</td>\n",
              "      <td>United Kingdom</td>\n",
              "    </tr>\n",
              "    <tr>\n",
              "      <th>160307</th>\n",
              "      <td>550458</td>\n",
              "      <td>22693</td>\n",
              "      <td>GROW A FLYTRAP OR SUNFLOWER IN TIN</td>\n",
              "      <td>1.0</td>\n",
              "      <td>2.50</td>\n",
              "      <td>2.50</td>\n",
              "      <td>18-04-11</td>\n",
              "      <td>18.0</td>\n",
              "      <td>4.0</td>\n",
              "      <td>2011.0</td>\n",
              "      <td>NaN</td>\n",
              "      <td>United Kingdom</td>\n",
              "    </tr>\n",
              "    <tr>\n",
              "      <th>160308</th>\n",
              "      <td>550458</td>\n",
              "      <td>22697</td>\n",
              "      <td>GREEN REGENCY TEACUP AND SAUCER</td>\n",
              "      <td>1.0</td>\n",
              "      <td>5.79</td>\n",
              "      <td>5.79</td>\n",
              "      <td>18-04-11</td>\n",
              "      <td>18.0</td>\n",
              "      <td>4.0</td>\n",
              "      <td>2011.0</td>\n",
              "      <td>NaN</td>\n",
              "      <td>United Kingdom</td>\n",
              "    </tr>\n",
              "    <tr>\n",
              "      <th>160309</th>\n",
              "      <td>550458</td>\n",
              "      <td>22699</td>\n",
              "      <td>ROSES REGENCY TEACUP AND SAUCER</td>\n",
              "      <td>1.0</td>\n",
              "      <td>5.79</td>\n",
              "      <td>5.79</td>\n",
              "      <td>18-04-11</td>\n",
              "      <td>18.0</td>\n",
              "      <td>4.0</td>\n",
              "      <td>2011.0</td>\n",
              "      <td>NaN</td>\n",
              "      <td>United Kingdom</td>\n",
              "    </tr>\n",
              "    <tr>\n",
              "      <th>160310</th>\n",
              "      <td>550458</td>\n",
              "      <td>22712</td>\n",
              "      <td>CARD DOLLY GIRL</td>\n",
              "      <td>2.0</td>\n",
              "      <td>0.83</td>\n",
              "      <td>1.66</td>\n",
              "      <td>18-04-11</td>\n",
              "      <td>18.0</td>\n",
              "      <td>4.0</td>\n",
              "      <td>2011.0</td>\n",
              "      <td>NaN</td>\n",
              "      <td>United Kingdom</td>\n",
              "    </tr>\n",
              "  </tbody>\n",
              "</table>\n",
              "<p>117832 rows × 12 columns</p>\n",
              "</div>"
            ],
            "text/plain": [
              "       InvoiceNo StockCode  ... CustomerID         Country\n",
              "42479     539993     22386  ...    13313.0  United Kingdom\n",
              "42480     539993     21499  ...    13313.0  United Kingdom\n",
              "42481     539993     21498  ...    13313.0  United Kingdom\n",
              "42482     539993     22379  ...    13313.0  United Kingdom\n",
              "42483     539993     20718  ...    13313.0  United Kingdom\n",
              "...          ...       ...  ...        ...             ...\n",
              "160306    550458     22692  ...        NaN  United Kingdom\n",
              "160307    550458     22693  ...        NaN  United Kingdom\n",
              "160308    550458     22697  ...        NaN  United Kingdom\n",
              "160309    550458     22699  ...        NaN  United Kingdom\n",
              "160310    550458     22712  ...        NaN  United Kingdom\n",
              "\n",
              "[117832 rows x 12 columns]"
            ]
          },
          "metadata": {
            "tags": []
          },
          "execution_count": 14
        }
      ]
    },
    {
      "cell_type": "code",
      "metadata": {
        "colab": {
          "base_uri": "https://localhost:8080/",
          "height": 397
        },
        "id": "yvg7naYjDnnh",
        "outputId": "4e78602c-f1db-4f0b-984f-586066db3afe"
      },
      "source": [
        "#Plotting the sales data for year 2011\n",
        "\n",
        "total = data.groupby('Month').agg({'Amount':np.sum})\n",
        "print (total)\n",
        "data.groupby('Month').agg({'Amount':np.sum}).plot(kind='line', color='red')\n",
        "plt.xlabel('Year of 2011')\n",
        "plt.ylabel('Total Sales')\n",
        "plt.title('Sales per month')\n",
        "plt.show()"
      ],
      "execution_count": 15,
      "outputs": [
        {
          "output_type": "stream",
          "text": [
            "           Amount\n",
            "Month            \n",
            "1.0    822669.640\n",
            "2.0    549134.460\n",
            "3.0    752003.310\n",
            "4.0    370870.791\n"
          ],
          "name": "stdout"
        },
        {
          "output_type": "display_data",
          "data": {
            "image/png": "[encoded data removed]",
            "text/plain": [
              "<Figure size 432x288 with 1 Axes>"
            ]
          },
          "metadata": {
            "tags": [],
            "needs_background": "light"
          }
        }
      ]
    },
    {
      "cell_type": "code",
      "metadata": {
        "colab": {
          "base_uri": "https://localhost:8080/",
          "height": 301
        },
        "id": "PEY3DKexD3Kp",
        "outputId": "d566f00d-156a-42e2-a12a-1b7d4fa97c75"
      },
      "source": [
        "#Plot Total Sales Per Month for Year 2011 as Bar Chart\n",
        "\n",
        "data.groupby('Month').agg({'Amount':np.sum}).plot(kind='bar', color='orange')\n",
        "plt.xlabel('Year of 2011')\n",
        "plt.ylabel('Total Sales')\n",
        "plt.title('Sales Per Month in 2011')\n",
        "plt.show()"
      ],
      "execution_count": 16,
      "outputs": [
        {
          "output_type": "display_data",
          "data": {
            "image/png": "[encoded data removed]",
            "text/plain": [
              "<Figure size 432x288 with 1 Axes>"
            ]
          },
          "metadata": {
            "tags": [],
            "needs_background": "light"
          }
        }
      ]
    },
    {
      "cell_type": "code",
      "metadata": {
        "colab": {
          "base_uri": "https://localhost:8080/",
          "height": 357
        },
        "id": "tDw2URJwD5NO",
        "outputId": "d7426291-a412-4efc-a271-fc04b6fbc5ba"
      },
      "source": [
        "#Plot Pie Chart for Year 2011 Country Wise. Which Country contributes highest towards sales?\n",
        "\n",
        "plt.figure(figsize=(5,5))\n",
        "sales_country = data.groupby('Country').agg({'Amount':np.sum})\n",
        "plt.pie(sales_country.values, labels=sales_country.index,autopct='%1.1f%%')\n",
        "plt.show()\n",
        "\n",
        "#United Kingdom contributes highest towards sales with 82.8%"
      ],
      "execution_count": 17,
      "outputs": [
        {
          "output_type": "stream",
          "text": [
            "/usr/local/lib/python3.7/dist-packages/ipykernel_launcher.py:5: MatplotlibDeprecationWarning: Non-1D inputs to pie() are currently squeeze()d, but this behavior is deprecated since 3.1 and will be removed in 3.3; pass a 1D array instead.\n",
            "  \"\"\"\n"
          ],
          "name": "stderr"
        },
        {
          "output_type": "display_data",
          "data": {
            "image/png": "[encoded data removed]",
            "text/plain": [
              "<Figure size 360x360 with 1 Axes>"
            ]
          },
          "metadata": {
            "tags": []
          }
        }
      ]
    },
    {
      "cell_type": "code",
      "metadata": {
        "colab": {
          "base_uri": "https://localhost:8080/",
          "height": 522
        },
        "id": "L_05AF0kEE0l",
        "outputId": "c47c6f48-e7c0-4e12-dd98-7645227019cd"
      },
      "source": [
        "#Plot Scatter Plot for the invoice amounts and see the concentration of amount. \n",
        "#In which range most of the invoice amounts are concentrated\n",
        "\n",
        "sales_invoice = dataset.groupby('InvoiceNo').agg({'Amount':np.sum})\n",
        "print (sales_invoice)\n",
        "plt.scatter(sales_invoice.values,sales_invoice.values,color='magenta')\n",
        "plt.grid(True)\n",
        "plt.show()\n",
        "#Most of the datapoints fall under 25000."
      ],
      "execution_count": 18,
      "outputs": [
        {
          "output_type": "stream",
          "text": [
            "             Amount\n",
            "InvoiceNo          \n",
            "5              0.00\n",
            "536365       139.12\n",
            "536366        22.20\n",
            "536367       278.73\n",
            "536368        70.05\n",
            "...             ...\n",
            "C550442        6.22\n",
            "C550451       47.50\n",
            "C550454        7.50\n",
            "C550455       14.25\n",
            "C550456    22998.40\n",
            "\n",
            "[8015 rows x 1 columns]\n"
          ],
          "name": "stdout"
        },
        {
          "output_type": "display_data",
          "data": {
            "image/png": "[encoded data removed]",
            "text/plain": [
              "<Figure size 432x288 with 1 Axes>"
            ]
          },
          "metadata": {
            "tags": [],
            "needs_background": "light"
          }
        }
      ]
    },
    {
      "cell_type": "code",
      "metadata": {
        "id": "VcnbF3g2EHAp"
      },
      "source": [
        ""
      ],
      "execution_count": null,
      "outputs": []
    }
  ]
}